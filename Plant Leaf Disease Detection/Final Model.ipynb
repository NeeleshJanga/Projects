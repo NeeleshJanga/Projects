{
 "cells": [
  {
   "cell_type": "code",
   "execution_count": 1,
   "id": "9680fbed",
   "metadata": {},
   "outputs": [],
   "source": [
    "import numpy as np\n",
    "from numpy import loadtxt\n",
    "from keras.models import load_model\n",
    "import cv2\n",
    "import pickle\n",
    "from sklearn.preprocessing import LabelBinarizer\n",
    "from keras.preprocessing.image import img_to_array"
   ]
  },
  {
   "cell_type": "code",
   "execution_count": 2,
   "id": "01847cfc",
   "metadata": {},
   "outputs": [],
   "source": [
    "label_list = []"
   ]
  },
  {
   "cell_type": "code",
   "execution_count": 3,
   "id": "c315cdc0",
   "metadata": {},
   "outputs": [],
   "source": [
    "# open file and read the content in a list\n",
    "with open('labels.txt', 'r') as filehandle:\n",
    "    for line in filehandle:\n",
    "        # remove linebreak which is the last character of the string\n",
    "        currentPlace = line[:-1]\n",
    "\n",
    "        # add item to the list\n",
    "        label_list.append(currentPlace)"
   ]
  },
  {
   "cell_type": "code",
   "execution_count": 4,
   "id": "5ffb6337",
   "metadata": {},
   "outputs": [
    {
     "data": {
      "text/plain": [
       "['Pepper__bell___Bacterial_spot',\n",
       " 'Pepper__bell___Bacterial_spot',\n",
       " 'Pepper__bell___Bacterial_spot',\n",
       " 'Pepper__bell___Bacterial_spot',\n",
       " 'Pepper__bell___Bacterial_spot']"
      ]
     },
     "execution_count": 4,
     "metadata": {},
     "output_type": "execute_result"
    }
   ],
   "source": [
    "label_list[:5]"
   ]
  },
  {
   "cell_type": "code",
   "execution_count": 5,
   "id": "20468d5a",
   "metadata": {},
   "outputs": [],
   "source": [
    "label_binarizer = LabelBinarizer()\n",
    "image_labels = label_binarizer.fit_transform(label_list)\n",
    "pickle.dump(label_binarizer,open('label_transform.pkl', 'wb'))\n",
    "n_classes = len(label_binarizer.classes_)"
   ]
  },
  {
   "cell_type": "code",
   "execution_count": 6,
   "id": "b4da1302",
   "metadata": {},
   "outputs": [
    {
     "name": "stdout",
     "output_type": "stream",
     "text": [
      "[[1.08742235e-07 1.13401048e-01 8.68237734e-01 1.29019077e-06\n",
      "  1.53940404e-04 2.67204115e-07 9.79984449e-08 1.90405917e-05\n",
      "  3.72882340e-07 1.81114647e-05 1.12781640e-09 2.93181569e-04\n",
      "  1.83090418e-11 2.75782355e-07 1.78744737e-02]]\n",
      "probability:0.86823773\n",
      "Potato___Early_blight\n"
     ]
    }
   ],
   "source": [
    "# load and evaluate a saved model\n",
    "\n",
    "loaded_model = load_model('trainedmodel.h5')\n",
    "\n",
    "default_image_size = tuple((256, 256))\n",
    "\n",
    "\n",
    "def convert_image_to_array(image_dir):\n",
    "    try:\n",
    "        image = cv2.imread(image_dir)\n",
    "        if image is not None :\n",
    "            image = cv2.resize(image, default_image_size)   \n",
    "            return img_to_array(image)\n",
    "        else :\n",
    "            return np.array([])\n",
    "    except Exception as e:\n",
    "        print(f\"Error : {e}\")\n",
    "        return None\n",
    "\n",
    "image_dir=\"Root/PlantVillage/Potato___Early_blight/00d8f10f-5038-4e0f-bb58-0b885ddc0cc5___RS_Early.B 8722.JPG\"\n",
    "\n",
    "im = convert_image_to_array(image_dir)\n",
    "np_image_li = np.array(im, dtype=np.float16) / 225.0\n",
    "\n",
    "npp_image = np.expand_dims(np_image_li, axis=0)\n",
    "\n",
    "npp_image\n",
    "\n",
    "# loaded_model.summary()\n",
    "\n",
    "result = loaded_model.predict(npp_image)\n",
    "\n",
    "print(result)\n",
    "\n",
    "itemindex = np.where(result==np.max(result))\n",
    "print(\"probability:\"+str(np.max(result))+\"\\n\"+label_binarizer.classes_[itemindex[1][0]])"
   ]
  }
 ],
 "metadata": {
  "kernelspec": {
   "display_name": "Python 3 (ipykernel)",
   "language": "python",
   "name": "python3"
  },
  "language_info": {
   "codemirror_mode": {
    "name": "ipython",
    "version": 3
   },
   "file_extension": ".py",
   "mimetype": "text/x-python",
   "name": "python",
   "nbconvert_exporter": "python",
   "pygments_lexer": "ipython3",
   "version": "3.8.11"
  }
 },
 "nbformat": 4,
 "nbformat_minor": 5
}
